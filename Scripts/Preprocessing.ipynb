{
 "cells": [
  {
   "cell_type": "code",
   "execution_count": 1,
   "outputs": [],
   "source": [
    "import pandas as pd\n",
    "import numpy as np\n",
    "pd.options.mode.chained_assignment = None\n",
    "from sklearn.neighbors import KNeighborsClassifier\n",
    "from sklearn.model_selection import cross_val_score"
   ],
   "metadata": {
    "collapsed": false,
    "pycharm": {
     "name": "#%%\n"
    }
   }
  },
  {
   "cell_type": "code",
   "execution_count": 2,
   "outputs": [],
   "source": [
    "data = pd.read_csv('../OnlineData/clean_data_v4.csv')"
   ],
   "metadata": {
    "collapsed": false,
    "pycharm": {
     "name": "#%%\n"
    }
   }
  },
  {
   "cell_type": "code",
   "execution_count": 3,
   "outputs": [
    {
     "data": {
      "text/plain": "0       2017-01-01\n1       2017-01-01\n2       2017-01-01\n3       2017-01-01\n4       2017-01-01\n           ...    \n8755    2019-12-31\n8756    2019-12-31\n8757    2019-12-31\n8758    2019-12-31\n8759    2019-12-31\nName: TimOcurrencia, Length: 8760, dtype: object"
     },
     "execution_count": 3,
     "metadata": {},
     "output_type": "execute_result"
    }
   ],
   "source": [
    "for i in range(0, len(data)):\n",
    "    dia = data.loc[i,'TimOcurrencia'].split('/')\n",
    "    dia = f\"{dia[2]}-{dia[1]}-{dia[0]}\"\n",
    "    data.loc[i,'TimOcurrencia'] = dia\n",
    "\n",
    "data['TimOcurrencia']"
   ],
   "metadata": {
    "collapsed": false,
    "pycharm": {
     "name": "#%%\n"
    }
   }
  },
  {
   "cell_type": "code",
   "execution_count": 4,
   "outputs": [],
   "source": [
    "data = data.drop('Neu_max',1)\n",
    "data = data.drop('Neu_min',1)\n"
   ],
   "metadata": {
    "collapsed": false,
    "pycharm": {
     "name": "#%%\n"
    }
   }
  },
  {
   "cell_type": "code",
   "execution_count": 5,
   "outputs": [
    {
     "name": "stdout",
     "output_type": "stream",
     "text": [
      "Index(['TimOcurrencia', 'DesCPOcurrencia', 'NumEncargos', 'AccidenteDeFumador',\n",
      "       'AccidenteDomestico', 'ActosVandalicos', 'AsentamientosHundimientos',\n",
      "       'AveriaDeLaInstalacion', 'AveriaInternaDelAparato', 'CaidaDeObjetos',\n",
      "       'ConsecuenciasDeErrorDeDiseno', 'Cortocircuito', 'DanosPorAgua',\n",
      "       'DefectosDeMateriales', 'DefectoEstudioGeotecnico',\n",
      "       'DefectoFalloProyectoCalculo', 'ElectricidadEstatica', 'Emboces',\n",
      "       'Expolacion', 'CaidaDeRayo', 'Filtraciones',\n",
      "       'FugasInstalacionesDeExtincion', 'GolpeDeAire', 'GolpeFortuito',\n",
      "       'GoterasProcedentesDeLocales', 'Humo', 'Hurto', 'IgnicionEspontanea',\n",
      "       'ImpactoVehiculos', 'IncendiosDeOrigenElectrico', 'IntentoDeRobo',\n",
      "       'InundacionDesbordamientoDesviacion', 'LlamasAbiertas', 'Lluvia',\n",
      "       'AveriasAparatosElectricos', 'ManipulacionMaquinariaBienesAsegurados',\n",
      "       'ManoDeObraDefectuosa', 'MaterialesRecalentados', 'MontajeAnomalo',\n",
      "       'Nieve', 'NinoJugando', 'OlvidoCierreGrifos', 'OndasSonicas', 'Otros',\n",
      "       'Pedrisco', 'PicoTensionCiaElectrica',\n",
      "       'ProvenienteFuegoExteriorPorPropagacion', 'RCNoImputableAlAsegurado',\n",
      "       'RCDanosMateriales', 'RCDanosPersonales', 'RiesgoConvencional',\n",
      "       'RiesgoDeLaNaturaleza', 'RiesgoFuerzaMayor',\n",
      "       'RiesgosPropiosDeLaConstruccion', 'RiesgosPropiosDeMontaje', 'Robo',\n",
      "       'RocesFriccionesChispasMecanicas', 'RoturasPorObras',\n",
      "       'RoturaTuberiaAlimentacion', 'RoturaTuberiaCalefaccion',\n",
      "       'RoturaTuberiaDesague', 'SituacionDeTrabajo', 'SoldaduraYCorte',\n",
      "       'SuperficiesCalientes', 'TormentaElectrica', 'Viento',\n",
      "       'EdatConstruccion', 'Clase_Alta', 'Clase_MediaAlta', 'Clase_Media',\n",
      "       'Clase_MediaSencilla', 'Clase_Sencilla', 'Temperatura_max',\n",
      "       'Temperatura_min', 'Humitat_max', 'Humitat_min', 'Precipitacio_max',\n",
      "       'Precipitacio_min', 'IrrSolar_max', 'IrrSolar_min', 'Vent_max',\n",
      "       'Vent_min', 'ProbabilitatManifestacio', 'ProbabilitatFesta'],\n",
      "      dtype='object')\n"
     ]
    }
   ],
   "source": [
    "for index, row in data.iterrows():\n",
    "    any = np.int64(pd.to_datetime(row['TimOcurrencia']).date().year)\n",
    "    anyConstruccio = np.int64(row['AnoConstruccion'])\n",
    "    edatEdifici = any - anyConstruccio\n",
    "    data.at[index, 'AnoConstruccion'] = edatEdifici\n",
    "\n",
    "data = data.rename(columns={'AnoConstruccion': 'EdatConstruccion'})\n",
    "print(data.columns)"
   ],
   "metadata": {
    "collapsed": false,
    "pycharm": {
     "name": "#%%\n"
    }
   }
  },
  {
   "cell_type": "code",
   "execution_count": 6,
   "outputs": [
    {
     "name": "stdout",
     "output_type": "stream",
     "text": [
      "0.0\n"
     ]
    }
   ],
   "source": [
    "cols = ['Temperatura_max','Temperatura_min','Humitat_max','Humitat_min','Precipitacio_max', 'Precipitacio_min','IrrSolar_max','IrrSolar_min','Vent_max','Vent_min']\n",
    "X = data.loc[:, cols]\n",
    "y = X['Temperatura_max']\n",
    "\n",
    "numRows = len(X.index)\n",
    "print(data.loc[:, :].isna().sum().sum() / numRows * 100)\n"
   ],
   "metadata": {
    "collapsed": false,
    "pycharm": {
     "name": "#%%\n"
    }
   }
  },
  {
   "cell_type": "code",
   "execution_count": 7,
   "outputs": [
    {
     "name": "stdout",
     "output_type": "stream",
     "text": [
      "[]\n",
      "0\n",
      "8760\n",
      "0.0\n"
     ]
    }
   ],
   "source": [
    "rowNum = []\n",
    "for index, row in X.iterrows():\n",
    "    for col in cols:\n",
    "        if np.isnan(row[col]):\n",
    "            rowNum.append(index)\n",
    "            break\n",
    "print(rowNum)\n",
    "print(len(rowNum))\n",
    "print(len(data.index))\n",
    "print(len(rowNum)/len(data.index))"
   ],
   "metadata": {
    "collapsed": false,
    "pycharm": {
     "name": "#%%\n"
    }
   }
  },
  {
   "cell_type": "code",
   "execution_count": 8,
   "outputs": [
    {
     "name": "stdout",
     "output_type": "stream",
     "text": [
      "0\n"
     ]
    }
   ],
   "source": [
    "numDeRows = len(data.index)\n",
    "for index in rowNum:\n",
    "    for col in cols:\n",
    "        postIndex = index + 1\n",
    "        preIndex = index - 1\n",
    "        CPnul = data.at[index, 'DesCPOcurrencia']\n",
    "        for num in range(postIndex, numDeRows):\n",
    "            if num not in rowNum and data.at[num, 'DesCPOcurrencia'] == CPnul:\n",
    "                postIndex = num\n",
    "                break\n",
    "        for num in range(preIndex, -1, -1):\n",
    "            if num not in rowNum and data.at[num, 'DesCPOcurrencia'] == CPnul:\n",
    "                preIndex = num\n",
    "                break\n",
    "        data.at[index, col] = np.float64((data.loc[preIndex, col] + data.loc[postIndex, col])/2.0)\n",
    "    # print(data.loc[index, cols])\n",
    "print(data.loc[:, :].isna().sum().sum())\n",
    "# for index, row in X.iterrows():\n",
    "#     for col in cols:\n",
    "#         if np.isnan(row[col]):\n",
    "#             print(index)\n",
    "#             X = X.drop(index=index)\n",
    "#             y = y.drop(index=index)\n",
    "#             break\n",
    "#\n",
    "# print(\"--------------------\")\n",
    "#"
   ],
   "metadata": {
    "collapsed": false,
    "pycharm": {
     "name": "#%%\n"
    }
   }
  },
  {
   "cell_type": "code",
   "execution_count": 9,
   "outputs": [
    {
     "name": "stdout",
     "output_type": "stream",
     "text": [
      "0\n"
     ]
    }
   ],
   "source": [
    "print(data.loc[:, :].isna().sum().sum())\n",
    "# KNN\n",
    "#knn = KNeighborsClassifier(n_neighbors = 3)\n",
    "#knn.fit(X, y)\n"
   ],
   "metadata": {
    "collapsed": false,
    "pycharm": {
     "name": "#%%\n"
    }
   }
  },
  {
   "cell_type": "code",
   "execution_count": 10,
   "outputs": [
    {
     "name": "stdout",
     "output_type": "stream",
     "text": [
      "Index(['TimOcurrencia', 'DesCPOcurrencia', 'EdatConstruccion', 'Clase_Alta',\n",
      "       'Clase_MediaAlta', 'Clase_Media', 'Clase_MediaSencilla',\n",
      "       'Clase_Sencilla', 'Temperatura_max', 'Temperatura_min', 'Humitat_max',\n",
      "       'Humitat_min', 'Precipitacio_max', 'Precipitacio_min', 'IrrSolar_max',\n",
      "       'IrrSolar_min', 'Vent_max', 'Vent_min', 'ProbabilitatManifestacio',\n",
      "       'ProbabilitatFesta'],\n",
      "      dtype='object')\n"
     ]
    }
   ],
   "source": [
    "columnes = ['NumEncargos', 'AccidenteDeFumador',\n",
    "       'AccidenteDomestico', 'ActosVandalicos', 'AsentamientosHundimientos',\n",
    "       'AveriaDeLaInstalacion', 'AveriaInternaDelAparato', 'CaidaDeObjetos',\n",
    "       'ConsecuenciasDeErrorDeDiseno', 'Cortocircuito', 'DanosPorAgua',\n",
    "       'DefectosDeMateriales', 'DefectoEstudioGeotecnico',\n",
    "       'DefectoFalloProyectoCalculo', 'ElectricidadEstatica', 'Emboces',\n",
    "       'Expolacion', 'CaidaDeRayo', 'Filtraciones',\n",
    "       'FugasInstalacionesDeExtincion', 'GolpeDeAire', 'GolpeFortuito',\n",
    "       'GoterasProcedentesDeLocales', 'Humo', 'Hurto', 'IgnicionEspontanea',\n",
    "       'ImpactoVehiculos', 'IncendiosDeOrigenElectrico', 'IntentoDeRobo',\n",
    "       'InundacionDesbordamientoDesviacion', 'LlamasAbiertas', 'Lluvia',\n",
    "       'AveriasAparatosElectricos', 'ManipulacionMaquinariaBienesAsegurados',\n",
    "       'ManoDeObraDefectuosa', 'MaterialesRecalentados', 'MontajeAnomalo',\n",
    "       'Nieve', 'NinoJugando', 'OlvidoCierreGrifos', 'OndasSonicas', 'Otros',\n",
    "       'Pedrisco', 'PicoTensionCiaElectrica',\n",
    "       'ProvenienteFuegoExteriorPorPropagacion', 'RCNoImputableAlAsegurado',\n",
    "       'RCDanosMateriales', 'RCDanosPersonales', 'RiesgoConvencional',\n",
    "       'RiesgoDeLaNaturaleza', 'RiesgoFuerzaMayor',\n",
    "       'RiesgosPropiosDeLaConstruccion', 'RiesgosPropiosDeMontaje', 'Robo',\n",
    "       'RocesFriccionesChispasMecanicas', 'RoturasPorObras',\n",
    "       'RoturaTuberiaAlimentacion', 'RoturaTuberiaCalefaccion',\n",
    "       'RoturaTuberiaDesague', 'SituacionDeTrabajo', 'SoldaduraYCorte',\n",
    "       'SuperficiesCalientes', 'TormentaElectrica', 'Viento']\n",
    "data = data.drop(columns=columnes)\n",
    "print(data.columns)"
   ],
   "metadata": {
    "collapsed": false,
    "pycharm": {
     "name": "#%%\n"
    }
   }
  },
  {
   "cell_type": "code",
   "execution_count": 11,
   "outputs": [],
   "source": [
    "dataNormalized = pd.read_csv('../../testingNewData.csv', index_col=0)"
   ],
   "metadata": {
    "collapsed": false,
    "pycharm": {
     "name": "#%%\n"
    }
   }
  },
  {
   "cell_type": "code",
   "execution_count": 14,
   "outputs": [
    {
     "name": "stdout",
     "output_type": "stream",
     "text": [
      "Index(['DesCPOcurrencia', 'NumEncargos', 'AccidenteDeFumador',\n",
      "       'AccidenteDomestico', 'ActosVandalicos', 'AsentamientosHundimientos',\n",
      "       'AveriaDeLaInstalacion', 'AveriaInternaDelAparato', 'CaidaDeObjetos',\n",
      "       'ConsecuenciasDeErrorDeDiseno', 'Cortocircuito', 'DanosPorAgua',\n",
      "       'DefectosDeMateriales', 'DefectoEstudioGeotecnico',\n",
      "       'DefectoFalloProyectoCalculo', 'ElectricidadEstatica', 'Emboces',\n",
      "       'Expolacion', 'CaidaDeRayo', 'Filtraciones',\n",
      "       'FugasInstalacionesDeExtincion', 'GolpeDeAire', 'GolpeFortuito',\n",
      "       'GoterasProcedentesDeLocales', 'Humo', 'Hurto', 'IgnicionEspontanea',\n",
      "       'ImpactoVehiculos', 'IncendiosDeOrigenElectrico', 'IntentoDeRobo',\n",
      "       'InundacionDesbordamientoDesviacion', 'LlamasAbiertas', 'Lluvia',\n",
      "       'AveriasAparatosElectricos', 'ManipulacionMaquinariaBienesAsegurados',\n",
      "       'ManoDeObraDefectuosa', 'MaterialesRecalentados', 'MontajeAnomalo',\n",
      "       'Nieve', 'NinoJugando', 'OlvidoCierreGrifos', 'OndasSonicas', 'Otros',\n",
      "       'Pedrisco', 'PicoTensionCiaElectrica',\n",
      "       'ProvenienteFuegoExteriorPorPropagacion', 'RCNoImputableAlAsegurado',\n",
      "       'RCDanosMateriales', 'RCDanosPersonales', 'RiesgoConvencional',\n",
      "       'RiesgoDeLaNaturaleza', 'RiesgoFuerzaMayor',\n",
      "       'RiesgosPropiosDeLaConstruccion', 'RiesgosPropiosDeMontaje', 'Robo',\n",
      "       'RocesFriccionesChispasMecanicas', 'RoturasPorObras',\n",
      "       'RoturaTuberiaAlimentacion', 'RoturaTuberiaCalefaccion',\n",
      "       'RoturaTuberiaDesague', 'SituacionDeTrabajo', 'SoldaduraYCorte',\n",
      "       'SuperficiesCalientes', 'TormentaElectrica', 'Viento'],\n",
      "      dtype='object')\n",
      "['NumEncargos', 'AccidenteDeFumador', 'AccidenteDomestico', 'ActosVandalicos', 'AsentamientosHundimientos', 'AveriaDeLaInstalacion', 'AveriaInternaDelAparato', 'CaidaDeObjetos', 'ConsecuenciasDeErrorDeDiseno', 'Cortocircuito', 'DanosPorAgua', 'DefectosDeMateriales', 'DefectoEstudioGeotecnico', 'DefectoFalloProyectoCalculo', 'ElectricidadEstatica', 'Emboces', 'Expolacion', 'CaidaDeRayo', 'Filtraciones', 'FugasInstalacionesDeExtincion', 'GolpeDeAire', 'GolpeFortuito', 'GoterasProcedentesDeLocales', 'Humo', 'Hurto', 'IgnicionEspontanea', 'ImpactoVehiculos', 'IncendiosDeOrigenElectrico', 'IntentoDeRobo', 'InundacionDesbordamientoDesviacion', 'LlamasAbiertas', 'Lluvia', 'AveriasAparatosElectricos', 'ManipulacionMaquinariaBienesAsegurados', 'ManoDeObraDefectuosa', 'MaterialesRecalentados', 'MontajeAnomalo', 'Nieve', 'NinoJugando', 'OlvidoCierreGrifos', 'OndasSonicas', 'Otros', 'Pedrisco', 'PicoTensionCiaElectrica', 'ProvenienteFuegoExteriorPorPropagacion', 'RCNoImputableAlAsegurado', 'RCDanosMateriales', 'RCDanosPersonales', 'RiesgoConvencional', 'RiesgoDeLaNaturaleza', 'RiesgoFuerzaMayor', 'RiesgosPropiosDeLaConstruccion', 'RiesgosPropiosDeMontaje', 'Robo', 'RocesFriccionesChispasMecanicas', 'RoturasPorObras', 'RoturaTuberiaAlimentacion', 'RoturaTuberiaCalefaccion', 'RoturaTuberiaDesague', 'SituacionDeTrabajo', 'SoldaduraYCorte', 'SuperficiesCalientes', 'TormentaElectrica', 'Viento']\n"
     ]
    }
   ],
   "source": [
    "print(dataNormalized.columns)\n",
    "newColsSinistres = list(dataNormalized.columns)\n",
    "\n",
    "newColsSinistres.remove(\"DesCPOcurrencia\")\n",
    "print(newColsSinistres)\n",
    "\n",
    "for sinistre in newColsSinistres:\n",
    "    data[sinistre] = np.nan"
   ],
   "metadata": {
    "collapsed": false,
    "pycharm": {
     "name": "#%%\n"
    }
   }
  },
  {
   "cell_type": "code",
   "execution_count": 15,
   "outputs": [],
   "source": [
    "for index, row in data.iterrows():\n",
    "    dia = row['TimOcurrencia']\n",
    "    CP = row['DesCPOcurrencia']\n",
    "    auxD = dataNormalized.loc[dataNormalized['DesCPOcurrencia'] == CP]\n",
    "    for sinistre in newColsSinistres:\n",
    "        data.at[index, sinistre] = auxD.loc[dia, sinistre]\n",
    "\n",
    "\n",
    "\n"
   ],
   "metadata": {
    "collapsed": false,
    "pycharm": {
     "name": "#%%\n"
    }
   }
  },
  {
   "cell_type": "code",
   "execution_count": 16,
   "outputs": [],
   "source": [
    "data.to_csv('../OnlineData/FinalDataFinal.csv', index=False)"
   ],
   "metadata": {
    "collapsed": false,
    "pycharm": {
     "name": "#%%\n"
    }
   }
  }
 ],
 "metadata": {
  "kernelspec": {
   "display_name": "Python 3",
   "language": "python",
   "name": "python3"
  },
  "language_info": {
   "codemirror_mode": {
    "name": "ipython",
    "version": 2
   },
   "file_extension": ".py",
   "mimetype": "text/x-python",
   "name": "python",
   "nbconvert_exporter": "python",
   "pygments_lexer": "ipython2",
   "version": "2.7.6"
  }
 },
 "nbformat": 4,
 "nbformat_minor": 0
}